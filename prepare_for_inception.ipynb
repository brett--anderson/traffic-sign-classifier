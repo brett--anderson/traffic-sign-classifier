{
 "cells": [
  {
   "cell_type": "code",
   "execution_count": 1,
   "metadata": {
    "collapsed": true
   },
   "outputs": [],
   "source": [
    "import pickle\n",
    "\n",
    "training_file = 'traffic-signs-data/train.p'\n",
    "validation_file= 'traffic-signs-data/valid.p'\n",
    "testing_file = 'traffic-signs-data/test.p'\n",
    "\n",
    "with open(training_file, mode='rb') as f:\n",
    "    train = pickle.load(f)\n",
    "with open(validation_file, mode='rb') as f:\n",
    "    valid = pickle.load(f)\n",
    "with open(testing_file, mode='rb') as f:\n",
    "    test = pickle.load(f)\n",
    "    \n",
    "X_train, y_train = train['features'], train['labels']\n",
    "X_valid, y_valid = valid['features'], valid['labels']\n",
    "X_test, y_test = test['features'], test['labels']"
   ]
  },
  {
   "cell_type": "code",
   "execution_count": 2,
   "metadata": {
    "collapsed": false
   },
   "outputs": [],
   "source": [
    "from PIL import Image\n",
    "\n",
    "img = X_train[0]\n",
    "newimage = Image.new('RGB', (len(img[0]), len(img)))  # type, size\n",
    "newimage.putdata([tuple(p) for row in img for p in row])\n",
    "newimage.save(\"test_out.png\")"
   ]
  },
  {
   "cell_type": "code",
   "execution_count": 8,
   "metadata": {
    "collapsed": false
   },
   "outputs": [
    {
     "data": {
      "image/png": "[encoded data removed]",
      "text/plain": [
       "<matplotlib.figure.Figure at 0x7f2d3edd0cf8>"
      ]
     },
     "metadata": {},
     "output_type": "display_data"
    },
    {
     "name": "stdout",
     "output_type": "stream",
     "text": [
      "34799\n",
      "34799\n",
      "(34799, 32, 32, 3)\n"
     ]
    }
   ],
   "source": [
    "from imgaug import augmenters as iaa\n",
    "import matplotlib.pyplot as plt\n",
    "import random\n",
    "\n",
    "seq = iaa.Sequential(\n",
    "    [\n",
    "        iaa.Crop(px=(0, 6)), # crop images from each side by 0 to 6px (randomly chosen)\n",
    "        iaa.GaussianBlur(0, 2.0), # blur images with a sigma between 0 and 3.0\n",
    "        iaa.AdditiveGaussianNoise(loc=0, scale=(0.0, 0.01*255), per_channel=0.5), # add gaussian noise to images\n",
    "        iaa.Affine(\n",
    "            scale={\"x\": (0.8, 1.2), \"y\": (0.8, 1.2)}, # scale images to 80-120% of their size, individually per axis\n",
    "            translate_percent={\"x\": (-0.2, 0.2), \"y\": (-0.2, 0.2)}, # translate by -20 to +20 percent (per axis)\n",
    "            rotate=(-15, 15), # rotate by -15 to +15 degrees\n",
    "            shear=(-16, 16) # shear by -16 to +16 degrees\n",
    "        )\n",
    "    ]\n",
    ")\n",
    "\n",
    "# Affine: Shear\n",
    "\n",
    "# 'images' should be either a 4D numpy array of shape (N, height, width, channels)\n",
    "# or a list of 3D numpy arrays, each having shape (height, width, channels).\n",
    "# Grayscale images must have shape (height, width, 1) each.\n",
    "# All images must have numpy's dtype uint8. Values are expected to be in\n",
    "# range 0-255.\n",
    "images_aug = seq.augment_images(X_train)\n",
    "\n",
    "\n",
    "r_test = random.randint(0,len(images_aug))\n",
    "plt.imshow(images_aug[0])\n",
    "plt.show()\n",
    "print(len(X_train))\n",
    "print(len(images_aug))\n",
    "print(images_aug.shape)"
   ]
  },
  {
   "cell_type": "code",
   "execution_count": null,
   "metadata": {
    "collapsed": true
   },
   "outputs": [],
   "source": []
  }
 ],
 "metadata": {
  "kernelspec": {
   "display_name": "opencvtest",
   "language": "python",
   "name": "opencvtest"
  },
  "language_info": {
   "codemirror_mode": {
    "name": "ipython",
    "version": 3
   },
   "file_extension": ".py",
   "mimetype": "text/x-python",
   "name": "python",
   "nbconvert_exporter": "python",
   "pygments_lexer": "ipython3",
   "version": "3.5.2"
  }
 },
 "nbformat": 4,
 "nbformat_minor": 2
}
