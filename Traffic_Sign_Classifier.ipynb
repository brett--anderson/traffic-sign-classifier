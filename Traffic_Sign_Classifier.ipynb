{
 "cells": [
  {
   "cell_type": "markdown",
   "metadata": {},
   "source": [
    "# Self-Driving Car Engineer Nanodegree\n",
    "\n",
    "## Deep Learning\n",
    "\n",
    "## Project: Build a Traffic Sign Recognition Classifier\n",
    "\n",
    "In this notebook, a template is provided for you to implement your functionality in stages, which is required to successfully complete this project. If additional code is required that cannot be included in the notebook, be sure that the Python code is successfully imported and included in your submission if necessary. \n",
    "\n",
    "> **Note**: Once you have completed all of the code implementations, you need to finalize your work by exporting the iPython Notebook as an HTML document. Before exporting the notebook to html, all of the code cells need to have been run so that reviewers can see the final implementation and output. You can then export the notebook by using the menu above and navigating to  \\n\",\n",
    "    \"**File -> Download as -> HTML (.html)**. Include the finished document along with this notebook as your submission. \n",
    "\n",
    "In addition to implementing code, there is a writeup to complete. The writeup should be completed in a separate file, which can be either a markdown file or a pdf document. There is a [write up template](https://github.com/udacity/CarND-Traffic-Sign-Classifier-Project/blob/master/writeup_template.md) that can be used to guide the writing process. Completing the code template and writeup template will cover all of the [rubric points](https://review.udacity.com/#!/rubrics/481/view) for this project.\n",
    "\n",
    "The [rubric](https://review.udacity.com/#!/rubrics/481/view) contains \"Stand Out Suggestions\" for enhancing the project beyond the minimum requirements. The stand out suggestions are optional. If you decide to pursue the \"stand out suggestions\", you can include the code in this Ipython notebook and also discuss the results in the writeup file.\n",
    "\n",
    "\n",
    ">**Note:** Code and Markdown cells can be executed using the **Shift + Enter** keyboard shortcut. In addition, Markdown cells can be edited by typically double-clicking the cell to enter edit mode."
   ]
  },
  {
   "cell_type": "markdown",
   "metadata": {},
   "source": [
    "---\n",
    "## Step 0: Load The Data"
   ]
  },
  {
   "cell_type": "code",
   "execution_count": 36,
   "metadata": {
    "collapsed": false
   },
   "outputs": [],
   "source": [
    "# Load pickled data\n",
    "import pickle\n",
    "\n",
    "# TODO: Fill this in based on where you saved the training and testing data\n",
    "\n",
    "training_file = 'traffic-signs-data/train.p'\n",
    "validation_file= 'traffic-signs-data/valid.p'\n",
    "testing_file = 'traffic-signs-data/test.p'\n",
    "\n",
    "with open(training_file, mode='rb') as f:\n",
    "    train = pickle.load(f)\n",
    "with open(validation_file, mode='rb') as f:\n",
    "    valid = pickle.load(f)\n",
    "with open(testing_file, mode='rb') as f:\n",
    "    test = pickle.load(f)\n",
    "    \n",
    "X_train, y_train = train['features'], train['labels']\n",
    "X_valid, y_valid = valid['features'], valid['labels']\n",
    "X_test, y_test = test['features'], test['labels']\n",
    "\n",
    "is_features_normal = False"
   ]
  },
  {
   "cell_type": "markdown",
   "metadata": {},
   "source": [
    "---\n",
    "\n",
    "## Step 1: Dataset Summary & Exploration\n",
    "\n",
    "The pickled data is a dictionary with 4 key/value pairs:\n",
    "\n",
    "- `'features'` is a 4D array containing raw pixel data of the traffic sign images, (num examples, width, height, channels).\n",
    "- `'labels'` is a 1D array containing the label/class id of the traffic sign. The file `signnames.csv` contains id -> name mappings for each id.\n",
    "- `'sizes'` is a list containing tuples, (width, height) representing the original width and height the image.\n",
    "- `'coords'` is a list containing tuples, (x1, y1, x2, y2) representing coordinates of a bounding box around the sign in the image. **THESE COORDINATES ASSUME THE ORIGINAL IMAGE. THE PICKLED DATA CONTAINS RESIZED VERSIONS (32 by 32) OF THESE IMAGES**\n",
    "\n",
    "Complete the basic data summary below. Use python, numpy and/or pandas methods to calculate the data summary rather than hard coding the results. For example, the [pandas shape method](http://pandas.pydata.org/pandas-docs/stable/generated/pandas.DataFrame.shape.html) might be useful for calculating some of the summary results. "
   ]
  },
  {
   "cell_type": "markdown",
   "metadata": {},
   "source": [
    "### Provide a Basic Summary of the Data Set Using Python, Numpy and/or Pandas"
   ]
  },
  {
   "cell_type": "code",
   "execution_count": 37,
   "metadata": {
    "collapsed": false
   },
   "outputs": [
    {
     "name": "stdout",
     "output_type": "stream",
     "text": [
      "Number of training examples = 34799\n",
      "Number of validation examples = 4410\n",
      "Number of testing examples = 12630\n",
      "Image data shape = (32, 32, 3)\n",
      "Number of classes = 43\n"
     ]
    }
   ],
   "source": [
    "### Replace each question mark with the appropriate value. \n",
    "### Use python, pandas or numpy methods rather than hard coding the results\n",
    "import numpy as np\n",
    "\n",
    "# TODO: Number of training examples\n",
    "n_train = X_train.shape[0]\n",
    "\n",
    "# TODO: Number of validation examples\n",
    "n_validation = X_valid.shape[0]\n",
    "\n",
    "# TODO: Number of testing examples.\n",
    "n_test = X_test.shape[0]\n",
    "\n",
    "# TODO: What's the shape of an traffic sign image?\n",
    "image_shape = X_train[0].shape\n",
    "\n",
    "# TODO: How many unique classes/labels there are in the dataset.\n",
    "n_classes = len(np.unique(y_train))\n",
    "\n",
    "print(\"Number of training examples =\", n_train)\n",
    "print(\"Number of validation examples =\", n_validation)\n",
    "print(\"Number of testing examples =\", n_test)\n",
    "print(\"Image data shape =\", image_shape)\n",
    "print(\"Number of classes =\", n_classes)"
   ]
  },
  {
   "cell_type": "markdown",
   "metadata": {},
   "source": [
    "### Include an exploratory visualization of the dataset"
   ]
  },
  {
   "cell_type": "markdown",
   "metadata": {},
   "source": [
    "Visualize the German Traffic Signs Dataset using the pickled file(s). This is open ended, suggestions include: plotting traffic sign images, plotting the count of each sign, etc. \n",
    "\n",
    "The [Matplotlib](http://matplotlib.org/) [examples](http://matplotlib.org/examples/index.html) and [gallery](http://matplotlib.org/gallery.html) pages are a great resource for doing visualizations in Python.\n",
    "\n",
    "**NOTE:** It's recommended you start with something simple first. If you wish to do more, come back to it after you've completed the rest of the sections. It can be interesting to look at the distribution of classes in the training, validation and test set. Is the distribution the same? Are there more examples of some classes than others?"
   ]
  },
  {
   "cell_type": "code",
   "execution_count": 38,
   "metadata": {
    "collapsed": true
   },
   "outputs": [],
   "source": [
    "import math\n",
    "import matplotlib.image as mpimg\n",
    "import matplotlib.gridspec as gridspec\n",
    "\n",
    "def process_image_plot(item, ax, mplot):\n",
    "    \"\"\"plot an image using the given axis and plot reference\n",
    "    \n",
    "    Args:\n",
    "        item -- item holding image data to be ploted\n",
    "        ax -- axis reference that can be used to modify the plot\n",
    "        mplot -- reference to matplotlib that can be used to plot the image\n",
    "    \"\"\"    \n",
    "    ax.set_xticks([]) # remove horizontal ticks from image\n",
    "    ax.set_yticks([]) # remove vertical ticks from image\n",
    "    mplot.imshow(item[0], cmap=item[1]) # display image with specified cmap\n",
    "\n",
    "def tile_images(images, col_num):\n",
    "    \"\"\"Plot multiple images in a single image\n",
    "    \n",
    "    Args:\n",
    "        images -- array of images to plot\n",
    "        col_num -- number of required columns in the plot\n",
    "    \"\"\"\n",
    "    # determine image size to calculate desired figure height\n",
    "    shape = images[0][0].shape\n",
    "    img_height = float(shape[0])\n",
    "    img_width = float(shape[1])\n",
    "    tile_plots(images, col_num, img_width, img_height, process_image_plot)\n",
    "\n",
    "def tile_plots(items, col_num, item_width, item_height, processor):\n",
    "    \"\"\"Plot multiple items in a single image, each item is processed using the \n",
    "    given processor function. The processor function takes as arguments \n",
    "    an item, axis and plot reference. It's up to the processor to define how to\n",
    "    use the axis and plot object to plot the item.\n",
    "    \n",
    "    Args:\n",
    "        items -- array of objects to be processed and ploted in each cell of the figure\n",
    "        col_num -- number of required columns in the plot\n",
    "        item_width -- original width of the item, used to retain aspect ratio\n",
    "        item_height -- original width of the item, used to retain aspect ratio\n",
    "        processor -- function which takes an item, axis and plot reference and uses\n",
    "            the axis and plot reference to plot the item\n",
    "    \"\"\"\n",
    "    if len(items) == 0:\n",
    "        return\n",
    "    notebook_pixel_width = 720.0\n",
    "    col_width = notebook_pixel_width / float(col_num)\n",
    "    row_height = (col_width / item_width) * item_height\n",
    "    # divide images by required columns to determine number of rows\n",
    "    row_num = math.ceil(len(items)/col_num)\n",
    "    fig = plt.figure()\n",
    "    # figure size is specified in inches, so divide required pixel size by dots per inch\n",
    "    dpi = fig.get_dpi()\n",
    "    fig.set_size_inches(notebook_pixel_width/float(dpi), (row_num*row_height)/float(dpi))\n",
    "    # create a grid layout to position the individual plots\n",
    "    gridspec.GridSpec(row_num ,col_num)\n",
    "    for i, item in enumerate(items):\n",
    "        row = i // col_num # integer floor divide to increment row after all columns\n",
    "        col = i % col_num # increment col from 0 to cols-1 and cycle back to 0\n",
    "        ax = plt.subplot2grid((row_num, col_num), (row, col)) # create plot in correct grid cell\n",
    "        processor(item, ax, plt)\n",
    "        plt.tight_layout() # remove margins from figure\n",
    "        \n",
    "    plt.show()"
   ]
  },
  {
   "cell_type": "code",
   "execution_count": 39,
   "metadata": {
    "collapsed": false
   },
   "outputs": [
    {
     "data": {
      "image/png": "[encoded data removed]",
      "text/plain": [
       "<matplotlib.figure.Figure at 0x7f26c78a2ef0>"
      ]
     },
     "metadata": {},
     "output_type": "display_data"
    },
    {
     "data": {
      "image/png": "[encoded data removed]",
      "text/plain": [
       "<matplotlib.figure.Figure at 0x7f26c5153438>"
      ]
     },
     "metadata": {},
     "output_type": "display_data"
    },
    {
     "name": "stdout",
     "output_type": "stream",
     "text": [
      "Number of training examples = 34799\n",
      "Number of validation examples = 4410\n",
      "Number of testing examples = 12630\n",
      "Image data shape = (32, 32, 3)\n",
      "Number of classes = 43\n"
     ]
    }
   ],
   "source": [
    "### Data exploration visualization code goes here.\n",
    "### Feel free to use as many code cells as needed.\n",
    "import matplotlib.pyplot as plt\n",
    "import random\n",
    "# Visualizations will be shown in the notebook.\n",
    "%matplotlib inline\n",
    "\n",
    "def histogram(item, ax, plt):\n",
    "    plt.hist(item[1])\n",
    "    ax.set_title(item[0])\n",
    "    \n",
    "def show_image(item, ax, plt):\n",
    "    ax.set_xticks([]) # remove horizontal ticks from image\n",
    "    ax.set_yticks([]) # remove vertical ticks from image\n",
    "    plt.imshow(item[1])\n",
    "    ax.set_title(item[0])\n",
    "    \n",
    "def show_gray_image(item, ax, plt):\n",
    "    ax.set_xticks([]) # remove horizontal ticks from image\n",
    "    ax.set_yticks([]) # remove vertical ticks from image\n",
    "    plt.imshow(item[1].squeeze(), cmap='gray')\n",
    "    ax.set_title(item[0])\n",
    "\n",
    "tile_plots(\n",
    "    [('training classes', y_train), \n",
    "     ('validation classes', y_valid), \n",
    "     ('test classes', y_test)], \n",
    "    3, 300, 300, histogram\n",
    ")\n",
    "\n",
    "r_train = random.randint(0,len(X_train))\n",
    "r_valid = random.randint(0,len(X_valid))\n",
    "r_test = random.randint(0,len(X_test))\n",
    "tile_plots(\n",
    "    [('training example', X_train[r_train]), \n",
    "     ('validation example', X_valid[r_valid]), \n",
    "     ('test example', X_test[r_test])], \n",
    "    3, 32, 32, show_image\n",
    ")\n",
    "\n",
    "\n",
    "print(\"Number of training examples =\", n_train)\n",
    "print(\"Number of validation examples =\", n_validation)\n",
    "print(\"Number of testing examples =\", n_test)\n",
    "print(\"Image data shape =\", image_shape)\n",
    "print(\"Number of classes =\", n_classes)"
   ]
  },
  {
   "cell_type": "markdown",
   "metadata": {},
   "source": [
    "----\n",
    "\n",
    "## Step 2: Design and Test a Model Architecture\n",
    "\n",
    "Design and implement a deep learning model that learns to recognize traffic signs. Train and test your model on the [German Traffic Sign Dataset](http://benchmark.ini.rub.de/?section=gtsrb&subsection=dataset).\n",
    "\n",
    "The LeNet-5 implementation shown in the [classroom](https://classroom.udacity.com/nanodegrees/nd013/parts/fbf77062-5703-404e-b60c-95b78b2f3f9e/modules/6df7ae49-c61c-4bb2-a23e-6527e69209ec/lessons/601ae704-1035-4287-8b11-e2c2716217ad/concepts/d4aca031-508f-4e0b-b493-e7b706120f81) at the end of the CNN lesson is a solid starting point. You'll have to change the number of classes and possibly the preprocessing, but aside from that it's plug and play! \n",
    "\n",
    "With the LeNet-5 solution from the lecture, you should expect a validation set accuracy of about 0.89. To meet specifications, the validation set accuracy will need to be at least 0.93. It is possible to get an even higher accuracy, but 0.93 is the minimum for a successful project submission. \n",
    "\n",
    "There are various aspects to consider when thinking about this problem:\n",
    "\n",
    "- Neural network architecture (is the network over or underfitting?)\n",
    "- Play around preprocessing techniques (normalization, rgb to grayscale, etc)\n",
    "- Number of examples per label (some have more than others).\n",
    "- Generate fake data.\n",
    "\n",
    "Here is an example of a [published baseline model on this problem](http://yann.lecun.com/exdb/publis/pdf/sermanet-ijcnn-11.pdf). It's not required to be familiar with the approach used in the paper but, it's good practice to try to read papers like these."
   ]
  },
  {
   "cell_type": "markdown",
   "metadata": {},
   "source": [
    "### Pre-process the Data Set (normalization, grayscale, etc.)"
   ]
  },
  {
   "cell_type": "markdown",
   "metadata": {},
   "source": [
    "Minimally, the image data should be normalized so that the data has mean zero and equal variance. For image data, `(pixel - 128)/ 128` is a quick way to approximately normalize the data and can be used in this project. \n",
    "\n",
    "Other pre-processing steps are optional. You can try different techniques to see if it improves performance. \n",
    "\n",
    "Use the code cell (or multiple code cells, if necessary) to implement the first step of your project."
   ]
  },
  {
   "cell_type": "code",
   "execution_count": 40,
   "metadata": {
    "collapsed": false
   },
   "outputs": [],
   "source": [
    "### Preprocess the data here. It is required to normalize the data. Other preprocessing steps could include \n",
    "### converting to grayscale, etc.\n",
    "### Feel free to use as many code cells as needed.\n",
    "from sklearn.utils import shuffle\n",
    "\n",
    "X_train, y_train = shuffle(X_train, y_train)"
   ]
  },
  {
   "cell_type": "code",
   "execution_count": 41,
   "metadata": {
    "collapsed": false
   },
   "outputs": [],
   "source": [
    "import tensorflow as tf"
   ]
  },
  {
   "cell_type": "code",
   "execution_count": 42,
   "metadata": {
    "collapsed": false
   },
   "outputs": [
    {
     "data": {
      "image/png": "[encoded data removed]",
      "text/plain": [
       "<matplotlib.figure.Figure at 0x7f26c786d2b0>"
      ]
     },
     "metadata": {},
     "output_type": "display_data"
    }
   ],
   "source": [
    "import cv2\n",
    "\n",
    "def rgb2gray(rgb):\n",
    "    \"\"\"\n",
    "    Convert RGB to Grayscale\n",
    "    \"\"\"\n",
    "    rgb = rgb.astype(float)\n",
    "    return np.mean(rgb, axis=-1, keepdims=True)\n",
    "\n",
    "def rgb2yuv(rgb):\n",
    "    \"\"\"\n",
    "    Convert to YUV then just return the 'Y'\n",
    "    \"\"\"\n",
    "    # use a conversion that highlights human priority of color\n",
    "    rgb = rgb.astype(float)\n",
    "    img = np.dot(rgb[...,:3], [0.299, 0.587, 0.114])\n",
    "    img = np.sum(rgb, axis=-1, keepdims=True)\n",
    "    return img\n",
    "    \n",
    "def normalize(image_data):\n",
    "    \"\"\"\n",
    "    Normalize the image data with Min-Max scaling to a range of [0.1, 0.9]\n",
    "    :param image_data: The image data to be normalized\n",
    "    :return: Normalized image data\n",
    "    \"\"\"\n",
    "#     image_data = rgb2yuv(image_data)\n",
    "    image_data = rgb2gray(image_data)\n",
    "    image_data -= np.mean(image_data)\n",
    "    image_data /= np.std(image_data)\n",
    "    return image_data\n",
    "\n",
    "if not is_features_normal:\n",
    "    X_train = normalize(X_train)\n",
    "    X_valid = normalize(X_valid)\n",
    "    X_test = normalize(X_test)\n",
    "    is_features_normal = True\n",
    "    \n",
    "r_train = random.randint(0,len(X_train))\n",
    "r_valid = random.randint(0,len(X_valid))\n",
    "r_test = random.randint(0,len(X_test))\n",
    "tile_plots(\n",
    "    [('training example', X_train[r_train]), \n",
    "     ('validation example', X_valid[r_valid]), \n",
    "     ('test example', X_test[r_test])], \n",
    "    3, 32, 32, show_gray_image\n",
    ")"
   ]
  },
  {
   "cell_type": "code",
   "execution_count": 43,
   "metadata": {
    "collapsed": false
   },
   "outputs": [
    {
     "name": "stdout",
     "output_type": "stream",
     "text": [
      "(12630, 32, 32, 1)\n"
     ]
    }
   ],
   "source": [
    "print(X_test.shape)"
   ]
  },
  {
   "cell_type": "markdown",
   "metadata": {},
   "source": [
    "### Model Architecture"
   ]
  },
  {
   "cell_type": "code",
   "execution_count": 56,
   "metadata": {
    "collapsed": true
   },
   "outputs": [],
   "source": [
    "x = tf.placeholder(tf.float32, (None, 32, 32, 1))\n",
    "y = tf.placeholder(tf.int32, (None))\n",
    "keep_prob = tf.placeholder(tf.float32)\n",
    "keep_prob_2 = tf.placeholder(tf.float32)\n",
    "l2_loss_penalty = tf.placeholder(tf.float32)\n",
    "one_hot_y = tf.one_hot(y, n_classes)"
   ]
  },
  {
   "cell_type": "code",
   "execution_count": 62,
   "metadata": {
    "collapsed": false
   },
   "outputs": [],
   "source": [
    "### Define your architecture here.\n",
    "### Feel free to use as many code cells as needed.\n",
    "from tensorflow.contrib.layers import flatten\n",
    "\n",
    "EPOCHS = 50\n",
    "BATCH_SIZE = 128\n",
    "\n",
    "# mean for the normal distribution sampled for the initial weights\n",
    "mu = 0\n",
    "# variance for the normal distribution sampled for the initial weights\n",
    "sigma = 0.1\n",
    "# learning rate\n",
    "rate = 0.001\n",
    "\n",
    "def model(x):\n",
    "    # Layer 1: Convolutional. Input = 32x32x1. Output = 28x28x6.\n",
    "    conv1_W = tf.Variable(tf.truncated_normal(shape=(5, 5, 1, 6), mean = mu, stddev = sigma))\n",
    "    conv1_b = tf.Variable(tf.zeros(6))\n",
    "    conv1   = tf.nn.conv2d(x, conv1_W, strides=[1, 1, 1, 1], padding='VALID') + conv1_b\n",
    "    \n",
    "    # Activation.\n",
    "    conv1 = tf.nn.relu(conv1)\n",
    "\n",
    "    # Pooling. Input = 28x28x6. Output = 14x14x6.\n",
    "    conv1 = tf.nn.max_pool(conv1, ksize=[1, 2, 2, 1], strides=[1, 2, 2, 1], padding='VALID')\n",
    "    \n",
    "    # # Dropout to avoid overfitting\n",
    "    conv1 = tf.nn.dropout(conv1, keep_prob=keep_prob)\n",
    "\n",
    "    # Layer 2: Convolutional. Output = 10x10x16.\n",
    "    conv2_W = tf.Variable(tf.truncated_normal(shape=(5, 5, 6, 16), mean = mu, stddev = sigma))\n",
    "    conv2_b = tf.Variable(tf.zeros(16))\n",
    "    conv2   = tf.nn.conv2d(conv1, conv2_W, strides=[1, 1, 1, 1], padding='VALID') + conv2_b\n",
    "\n",
    "    # Activation.\n",
    "    conv2 = tf.nn.relu(conv2)\n",
    "\n",
    "    # Pooling. Input = 10x10x16. Output = 5x5x16.\n",
    "    conv2 = tf.nn.max_pool(conv2, ksize=[1, 2, 2, 1], strides=[1, 2, 2, 1], padding='VALID')\n",
    "    \n",
    "    # # Dropout to avoid overfitting\n",
    "    conv2 = tf.nn.dropout(conv2, keep_prob=keep_prob_2)\n",
    "\n",
    "    # Flatten. Input = 5x5x16. Output = 400.\n",
    "    fc0   = flatten(conv2)\n",
    "\n",
    "    # Layer 3: Fully Connected. Input = 400. Output = 120.\n",
    "    fc1_W = tf.Variable(tf.truncated_normal(shape=(400, 120), mean = mu, stddev = sigma))\n",
    "    fc1_b = tf.Variable(tf.zeros(120))\n",
    "    fc1   = tf.matmul(fc0, fc1_W) + fc1_b\n",
    "\n",
    "    # Activation.\n",
    "    fc1 = tf.nn.relu(fc1)\n",
    "\n",
    "    # Layer 4: Fully Connected. Input = 120. Output = 84.\n",
    "    fc2_W = tf.Variable(tf.truncated_normal(shape=(120, 84), mean = mu, stddev = sigma))\n",
    "    fc2_b = tf.Variable(tf.zeros(84))\n",
    "    fc2   = tf.matmul(fc1, fc2_W) + fc2_b\n",
    "\n",
    "    # Activation.\n",
    "    fc2 = tf.nn.relu(fc2)\n",
    "\n",
    "    # Layer 5: Fully Connected. Input = 84. Output = n_classes.\n",
    "    fc3_W = tf.Variable(tf.truncated_normal(shape=(84, n_classes), mean = mu, stddev = sigma))\n",
    "    fc3_b = tf.Variable(tf.zeros(n_classes))\n",
    "    logits   = tf.matmul(fc2, fc3_W) + fc3_b \n",
    "\n",
    "    cross_entropy = tf.nn.softmax_cross_entropy_with_logits(labels=one_hot_y, logits=logits)\n",
    "    loss = tf.reduce_mean(cross_entropy)\n",
    "\n",
    "    # Regularization term, take the L2 loss of each of the weight tensors, \n",
    "    # in this example, 2 convolutional layers and three fully connected layers. \n",
    "    # Sum them and multiply by a hyper-parameter controlling the amount of L2 loss\n",
    "    regularizers = (tf.nn.l2_loss(conv1_W) + \n",
    "                                           tf.nn.l2_loss(conv2_W) +\n",
    "                                           tf.nn.l2_loss(fc1_W) +\n",
    "                                           tf.nn.l2_loss(fc2_W) +\n",
    "                                           tf.nn.l2_loss(fc3_W))\n",
    "    l2_loss = tf.reduce_mean(loss + l2_loss_penalty * regularizers)\n",
    "\n",
    "    optimizer = tf.train.AdamOptimizer(learning_rate = rate)\n",
    "    training_operation = optimizer.minimize(l2_loss)\n",
    "    \n",
    "    return training_operation, logits"
   ]
  },
  {
   "cell_type": "markdown",
   "metadata": {},
   "source": [
    "### Train, Validate and Test the Model"
   ]
  },
  {
   "cell_type": "markdown",
   "metadata": {},
   "source": [
    "A validation set can be used to assess how well the model is performing. A low accuracy on the training and validation\n",
    "sets imply underfitting. A high accuracy on the training set but low accuracy on the validation set implies overfitting."
   ]
  },
  {
   "cell_type": "code",
   "execution_count": 63,
   "metadata": {
    "collapsed": false
   },
   "outputs": [],
   "source": [
    "### Train your model here.\n",
    "### Calculate and report the accuracy on the training and validation set.\n",
    "### Once a final model architecture is selected, \n",
    "### the accuracy on the test set should be calculated and reported as well.\n",
    "### Feel free to use as many code cells as needed.\n",
    "\n",
    "# probability that drop out layer after the first convolution keeps a feature\n",
    "train_keep_prob = 0.6\n",
    "# probability that drop out layer after the second convolution keeps a feature\n",
    "train_keep_prob_2 = 0.7\n",
    "# l2 loss penalty\n",
    "train_l2_loss_penalty = 0.0005\n",
    "\n",
    "training_operation, logits = model(x)"
   ]
  },
  {
   "cell_type": "code",
   "execution_count": 64,
   "metadata": {
    "collapsed": true
   },
   "outputs": [],
   "source": [
    "correct_prediction = tf.equal(tf.argmax(logits, 1), tf.argmax(one_hot_y, 1))\n",
    "accuracy_operation = tf.reduce_mean(tf.cast(correct_prediction, tf.float32))\n",
    "saver = tf.train.Saver()\n",
    "\n",
    "def evaluate(X_data, y_data):\n",
    "    num_examples = len(X_data)\n",
    "    total_accuracy = 0\n",
    "    sess = tf.get_default_session()\n",
    "    for offset in range(0, num_examples, BATCH_SIZE):\n",
    "        batch_x, batch_y = X_data[offset:offset+BATCH_SIZE], y_data[offset:offset+BATCH_SIZE]\n",
    "        accuracy = sess.run(accuracy_operation, feed_dict={\n",
    "            x: batch_x, \n",
    "            y: batch_y, \n",
    "            keep_prob: 1.0, \n",
    "            keep_prob_2: 1.0, \n",
    "            l2_loss_penalty: 0.0\n",
    "        })\n",
    "        total_accuracy += (accuracy * len(batch_x))\n",
    "    return total_accuracy / num_examples"
   ]
  },
  {
   "cell_type": "code",
   "execution_count": 69,
   "metadata": {
    "collapsed": false
   },
   "outputs": [
    {
     "name": "stdout",
     "output_type": "stream",
     "text": [
      "Training...\n",
      "\n",
      "EPOCH 1 ...\n",
      "Training = 0.761, Validation = 0.714\n",
      "\n",
      "EPOCH 2 ...\n",
      "Training = 0.883, Validation = 0.809\n",
      "\n",
      "EPOCH 3 ...\n",
      "Training = 0.911, Validation = 0.850\n",
      "\n",
      "EPOCH 4 ...\n",
      "Training = 0.938, Validation = 0.868\n",
      "\n",
      "EPOCH 5 ...\n",
      "Training = 0.956, Validation = 0.899\n",
      "\n",
      "EPOCH 6 ...\n",
      "Training = 0.961, Validation = 0.901\n",
      "\n",
      "EPOCH 7 ...\n",
      "Training = 0.969, Validation = 0.913\n",
      "\n",
      "EPOCH 8 ...\n",
      "Training = 0.972, Validation = 0.925\n",
      "\n",
      "EPOCH 9 ...\n",
      "Training = 0.976, Validation = 0.915\n",
      "\n",
      "EPOCH 10 ...\n",
      "Training = 0.969, Validation = 0.913\n",
      "\n",
      "EPOCH 11 ...\n",
      "Training = 0.980, Validation = 0.927\n",
      "\n",
      "EPOCH 12 ...\n",
      "Training = 0.982, Validation = 0.928\n",
      "\n",
      "EPOCH 13 ...\n",
      "Training = 0.985, Validation = 0.932\n",
      "\n",
      "EPOCH 14 ...\n",
      "Training = 0.982, Validation = 0.925\n",
      "\n",
      "EPOCH 15 ...\n",
      "Training = 0.984, Validation = 0.925\n",
      "\n",
      "EPOCH 16 ...\n",
      "Training = 0.983, Validation = 0.920\n",
      "\n",
      "EPOCH 17 ...\n",
      "Training = 0.988, Validation = 0.928\n",
      "\n",
      "EPOCH 18 ...\n",
      "Training = 0.987, Validation = 0.926\n",
      "\n",
      "EPOCH 19 ...\n",
      "Training = 0.986, Validation = 0.930\n",
      "\n",
      "EPOCH 20 ...\n",
      "Training = 0.988, Validation = 0.929\n",
      "\n",
      "EPOCH 21 ...\n",
      "Training = 0.990, Validation = 0.931\n",
      "\n",
      "EPOCH 22 ...\n",
      "Training = 0.988, Validation = 0.926\n",
      "\n",
      "EPOCH 23 ...\n",
      "Training = 0.988, Validation = 0.930\n",
      "\n",
      "EPOCH 24 ...\n",
      "Training = 0.991, Validation = 0.936\n",
      "\n",
      "EPOCH 25 ...\n",
      "Training = 0.992, Validation = 0.927\n",
      "\n",
      "EPOCH 26 ...\n",
      "Training = 0.990, Validation = 0.928\n",
      "\n",
      "EPOCH 27 ...\n",
      "Training = 0.993, Validation = 0.925\n",
      "\n",
      "EPOCH 28 ...\n",
      "Training = 0.990, Validation = 0.915\n",
      "\n",
      "EPOCH 29 ...\n",
      "Training = 0.988, Validation = 0.931\n",
      "\n",
      "EPOCH 30 ...\n",
      "Training = 0.992, Validation = 0.932\n",
      "\n",
      "EPOCH 31 ...\n",
      "Training = 0.993, Validation = 0.931\n",
      "\n",
      "EPOCH 32 ...\n",
      "Training = 0.994, Validation = 0.922\n",
      "\n",
      "EPOCH 33 ...\n",
      "Training = 0.993, Validation = 0.928\n",
      "\n",
      "EPOCH 34 ...\n",
      "Training = 0.993, Validation = 0.925\n",
      "\n",
      "EPOCH 35 ...\n",
      "Training = 0.992, Validation = 0.930\n",
      "\n",
      "EPOCH 36 ...\n",
      "Training = 0.993, Validation = 0.925\n",
      "\n",
      "EPOCH 37 ...\n",
      "Training = 0.992, Validation = 0.926\n",
      "\n",
      "EPOCH 38 ...\n",
      "Training = 0.993, Validation = 0.927\n",
      "\n",
      "EPOCH 39 ...\n",
      "Training = 0.995, Validation = 0.934\n",
      "\n",
      "EPOCH 40 ...\n",
      "Training = 0.992, Validation = 0.927\n",
      "\n",
      "EPOCH 41 ...\n",
      "Training = 0.994, Validation = 0.922\n",
      "\n",
      "EPOCH 42 ...\n",
      "Training = 0.994, Validation = 0.932\n",
      "\n",
      "EPOCH 43 ...\n",
      "Training = 0.994, Validation = 0.933\n",
      "\n",
      "EPOCH 44 ...\n",
      "Training = 0.994, Validation = 0.936\n",
      "\n",
      "EPOCH 45 ...\n",
      "Training = 0.994, Validation = 0.935\n",
      "\n",
      "EPOCH 46 ...\n",
      "Training = 0.995, Validation = 0.922\n",
      "\n",
      "EPOCH 47 ...\n",
      "Training = 0.995, Validation = 0.936\n",
      "\n",
      "EPOCH 48 ...\n",
      "Training = 0.993, Validation = 0.928\n",
      "\n",
      "EPOCH 49 ...\n",
      "Training = 0.994, Validation = 0.927\n",
      "\n",
      "EPOCH 50 ...\n",
      "Training = 0.995, Validation = 0.930\n",
      "\n",
      "Model saved\n"
     ]
    }
   ],
   "source": [
    "with tf.Session() as sess:\n",
    "    sess.run(tf.global_variables_initializer())\n",
    "    num_examples = len(X_train)\n",
    "    \n",
    "    print(\"Training...\")\n",
    "    print()\n",
    "    for i in range(EPOCHS):\n",
    "        X_train, y_train = shuffle(X_train, y_train)\n",
    "        for offset in range(0, num_examples, BATCH_SIZE):\n",
    "            end = offset + BATCH_SIZE\n",
    "            batch_x, batch_y = X_train[offset:end], y_train[offset:end]\n",
    "            sess.run(training_operation, feed_dict={\n",
    "                x: batch_x, \n",
    "                y: batch_y, \n",
    "                keep_prob: train_keep_prob, \n",
    "                keep_prob_2: train_keep_prob_2, \n",
    "                l2_loss_penalty: train_l2_loss_penalty\n",
    "            })\n",
    "            \n",
    "        validation_accuracy = evaluate(X_valid, y_valid)\n",
    "        training_accuracy = evaluate(X_train, y_train)\n",
    "        print(\"EPOCH {} ...\".format(i+1))\n",
    "        print(\"Training = {:.3f}, Validation = {:.3f}\".format(training_accuracy, validation_accuracy))\n",
    "        print()\n",
    "        \n",
    "    saver.save(sess, './traffic')\n",
    "    print(\"Model saved\")"
   ]
  },
  {
   "cell_type": "code",
   "execution_count": 70,
   "metadata": {
    "collapsed": false
   },
   "outputs": [
    {
     "name": "stdout",
     "output_type": "stream",
     "text": [
      "INFO:tensorflow:Restoring parameters from ./traffic\n",
      "Test Accuracy = 0.930\n"
     ]
    }
   ],
   "source": [
    "with tf.Session() as sess:\n",
    "    saver.restore(sess, tf.train.latest_checkpoint('.'))\n",
    "\n",
    "    test_accuracy = evaluate(X_test, y_test)\n",
    "    print(\"Test Accuracy = {:.3f}\".format(test_accuracy))"
   ]
  },
  {
   "cell_type": "markdown",
   "metadata": {},
   "source": [
    "---\n",
    "\n",
    "## Step 3: Test a Model on New Images\n",
    "\n",
    "To give yourself more insight into how your model is working, download at least five pictures of German traffic signs from the web and use your model to predict the traffic sign type.\n",
    "\n",
    "You may find `signnames.csv` useful as it contains mappings from the class id (integer) to the actual sign name."
   ]
  },
  {
   "cell_type": "markdown",
   "metadata": {},
   "source": [
    "### Load and Output the Images"
   ]
  },
  {
   "cell_type": "code",
   "execution_count": null,
   "metadata": {
    "collapsed": true
   },
   "outputs": [],
   "source": [
    "### Load the images and plot them here.\n",
    "### Feel free to use as many code cells as needed."
   ]
  },
  {
   "cell_type": "markdown",
   "metadata": {},
   "source": [
    "### Predict the Sign Type for Each Image"
   ]
  },
  {
   "cell_type": "code",
   "execution_count": 3,
   "metadata": {
    "collapsed": true
   },
   "outputs": [],
   "source": [
    "### Run the predictions here and use the model to output the prediction for each image.\n",
    "### Make sure to pre-process the images with the same pre-processing pipeline used earlier.\n",
    "### Feel free to use as many code cells as needed."
   ]
  },
  {
   "cell_type": "markdown",
   "metadata": {},
   "source": [
    "### Analyze Performance"
   ]
  },
  {
   "cell_type": "code",
   "execution_count": 4,
   "metadata": {
    "collapsed": true
   },
   "outputs": [],
   "source": [
    "### Calculate the accuracy for these 5 new images. \n",
    "### For example, if the model predicted 1 out of 5 signs correctly, it's 20% accurate on these new images."
   ]
  },
  {
   "cell_type": "markdown",
   "metadata": {},
   "source": [
    "### Output Top 5 Softmax Probabilities For Each Image Found on the Web"
   ]
  },
  {
   "cell_type": "markdown",
   "metadata": {},
   "source": [
    "For each of the new images, print out the model's softmax probabilities to show the **certainty** of the model's predictions (limit the output to the top 5 probabilities for each image). [`tf.nn.top_k`](https://www.tensorflow.org/versions/r0.12/api_docs/python/nn.html#top_k) could prove helpful here. \n",
    "\n",
    "The example below demonstrates how tf.nn.top_k can be used to find the top k predictions for each image.\n",
    "\n",
    "`tf.nn.top_k` will return the values and indices (class ids) of the top k predictions. So if k=3, for each sign, it'll return the 3 largest probabilities (out of a possible 43) and the correspoding class ids.\n",
    "\n",
    "Take this numpy array as an example. The values in the array represent predictions. The array contains softmax probabilities for five candidate images with six possible classes. `tf.nn.top_k` is used to choose the three classes with the highest probability:\n",
    "\n",
    "```\n",
    "# (5, 6) array\n",
    "a = np.array([[ 0.24879643,  0.07032244,  0.12641572,  0.34763842,  0.07893497,\n",
    "         0.12789202],\n",
    "       [ 0.28086119,  0.27569815,  0.08594638,  0.0178669 ,  0.18063401,\n",
    "         0.15899337],\n",
    "       [ 0.26076848,  0.23664738,  0.08020603,  0.07001922,  0.1134371 ,\n",
    "         0.23892179],\n",
    "       [ 0.11943333,  0.29198961,  0.02605103,  0.26234032,  0.1351348 ,\n",
    "         0.16505091],\n",
    "       [ 0.09561176,  0.34396535,  0.0643941 ,  0.16240774,  0.24206137,\n",
    "         0.09155967]])\n",
    "```\n",
    "\n",
    "Running it through `sess.run(tf.nn.top_k(tf.constant(a), k=3))` produces:\n",
    "\n",
    "```\n",
    "TopKV2(values=array([[ 0.34763842,  0.24879643,  0.12789202],\n",
    "       [ 0.28086119,  0.27569815,  0.18063401],\n",
    "       [ 0.26076848,  0.23892179,  0.23664738],\n",
    "       [ 0.29198961,  0.26234032,  0.16505091],\n",
    "       [ 0.34396535,  0.24206137,  0.16240774]]), indices=array([[3, 0, 5],\n",
    "       [0, 1, 4],\n",
    "       [0, 5, 1],\n",
    "       [1, 3, 5],\n",
    "       [1, 4, 3]], dtype=int32))\n",
    "```\n",
    "\n",
    "Looking just at the first row we get `[ 0.34763842,  0.24879643,  0.12789202]`, you can confirm these are the 3 largest probabilities in `a`. You'll also notice `[3, 0, 5]` are the corresponding indices."
   ]
  },
  {
   "cell_type": "code",
   "execution_count": 3,
   "metadata": {
    "collapsed": true
   },
   "outputs": [],
   "source": [
    "### Print out the top five softmax probabilities for the predictions on the German traffic sign images found on the web. \n",
    "### Feel free to use as many code cells as needed."
   ]
  },
  {
   "cell_type": "markdown",
   "metadata": {},
   "source": [
    "### Project Writeup\n",
    "\n",
    "Once you have completed the code implementation, document your results in a project writeup using this [template](https://github.com/udacity/CarND-Traffic-Sign-Classifier-Project/blob/master/writeup_template.md) as a guide. The writeup can be in a markdown or pdf file. "
   ]
  },
  {
   "cell_type": "markdown",
   "metadata": {},
   "source": [
    "> **Note**: Once you have completed all of the code implementations and successfully answered each question above, you may finalize your work by exporting the iPython Notebook as an HTML document. You can do this by using the menu above and navigating to  \\n\",\n",
    "    \"**File -> Download as -> HTML (.html)**. Include the finished document along with this notebook as your submission."
   ]
  },
  {
   "cell_type": "markdown",
   "metadata": {},
   "source": [
    "---\n",
    "\n",
    "## Step 4 (Optional): Visualize the Neural Network's State with Test Images\n",
    "\n",
    " This Section is not required to complete but acts as an additional excersise for understaning the output of a neural network's weights. While neural networks can be a great learning device they are often referred to as a black box. We can understand what the weights of a neural network look like better by plotting their feature maps. After successfully training your neural network you can see what it's feature maps look like by plotting the output of the network's weight layers in response to a test stimuli image. From these plotted feature maps, it's possible to see what characteristics of an image the network finds interesting. For a sign, maybe the inner network feature maps react with high activation to the sign's boundary outline or to the contrast in the sign's painted symbol.\n",
    "\n",
    " Provided for you below is the function code that allows you to get the visualization output of any tensorflow weight layer you want. The inputs to the function should be a stimuli image, one used during training or a new one you provided, and then the tensorflow variable name that represents the layer's state during the training process, for instance if you wanted to see what the [LeNet lab's](https://classroom.udacity.com/nanodegrees/nd013/parts/fbf77062-5703-404e-b60c-95b78b2f3f9e/modules/6df7ae49-c61c-4bb2-a23e-6527e69209ec/lessons/601ae704-1035-4287-8b11-e2c2716217ad/concepts/d4aca031-508f-4e0b-b493-e7b706120f81) feature maps looked like for it's second convolutional layer you could enter conv2 as the tf_activation variable.\n",
    "\n",
    "For an example of what feature map outputs look like, check out NVIDIA's results in their paper [End-to-End Deep Learning for Self-Driving Cars](https://devblogs.nvidia.com/parallelforall/deep-learning-self-driving-cars/) in the section Visualization of internal CNN State. NVIDIA was able to show that their network's inner weights had high activations to road boundary lines by comparing feature maps from an image with a clear path to one without. Try experimenting with a similar test to show that your trained network's weights are looking for interesting features, whether it's looking at differences in feature maps from images with or without a sign, or even what feature maps look like in a trained network vs a completely untrained one on the same sign image.\n",
    "\n",
    "<figure>\n",
    " <img src=\"visualize_cnn.png\" width=\"380\" alt=\"Combined Image\" />\n",
    " <figcaption>\n",
    " <p></p> \n",
    " <p style=\"text-align: center;\"> Your output should look something like this (above)</p> \n",
    " </figcaption>\n",
    "</figure>\n",
    " <p></p> \n"
   ]
  },
  {
   "cell_type": "code",
   "execution_count": null,
   "metadata": {
    "collapsed": true
   },
   "outputs": [],
   "source": [
    "### Visualize your network's feature maps here.\n",
    "### Feel free to use as many code cells as needed.\n",
    "\n",
    "# image_input: the test image being fed into the network to produce the feature maps\n",
    "# tf_activation: should be a tf variable name used during your training procedure that represents the calculated state of a specific weight layer\n",
    "# activation_min/max: can be used to view the activation contrast in more detail, by default matplot sets min and max to the actual min and max values of the output\n",
    "# plt_num: used to plot out multiple different weight feature map sets on the same block, just extend the plt number for each new feature map entry\n",
    "\n",
    "def outputFeatureMap(image_input, tf_activation, activation_min=-1, activation_max=-1 ,plt_num=1):\n",
    "    # Here make sure to preprocess your image_input in a way your network expects\n",
    "    # with size, normalization, ect if needed\n",
    "    # image_input =\n",
    "    # Note: x should be the same name as your network's tensorflow data placeholder variable\n",
    "    # If you get an error tf_activation is not defined it may be having trouble accessing the variable from inside a function\n",
    "    activation = tf_activation.eval(session=sess,feed_dict={x : image_input})\n",
    "    featuremaps = activation.shape[3]\n",
    "    plt.figure(plt_num, figsize=(15,15))\n",
    "    for featuremap in range(featuremaps):\n",
    "        plt.subplot(6,8, featuremap+1) # sets the number of feature maps to show on each row and column\n",
    "        plt.title('FeatureMap ' + str(featuremap)) # displays the feature map number\n",
    "        if activation_min != -1 & activation_max != -1:\n",
    "            plt.imshow(activation[0,:,:, featuremap], interpolation=\"nearest\", vmin =activation_min, vmax=activation_max, cmap=\"gray\")\n",
    "        elif activation_max != -1:\n",
    "            plt.imshow(activation[0,:,:, featuremap], interpolation=\"nearest\", vmax=activation_max, cmap=\"gray\")\n",
    "        elif activation_min !=-1:\n",
    "            plt.imshow(activation[0,:,:, featuremap], interpolation=\"nearest\", vmin=activation_min, cmap=\"gray\")\n",
    "        else:\n",
    "            plt.imshow(activation[0,:,:, featuremap], interpolation=\"nearest\", cmap=\"gray\")"
   ]
  }
 ],
 "metadata": {
  "anaconda-cloud": {},
  "kernelspec": {
   "display_name": "opencvtest",
   "language": "python",
   "name": "opencvtest"
  },
  "language_info": {
   "codemirror_mode": {
    "name": "ipython",
    "version": 3
   },
   "file_extension": ".py",
   "mimetype": "text/x-python",
   "name": "python",
   "nbconvert_exporter": "python",
   "pygments_lexer": "ipython3",
   "version": "3.5.2"
  }
 },
 "nbformat": 4,
 "nbformat_minor": 1
}
